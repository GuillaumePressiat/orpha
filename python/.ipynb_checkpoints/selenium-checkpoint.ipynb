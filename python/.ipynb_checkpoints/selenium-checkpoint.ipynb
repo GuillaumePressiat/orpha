{
 "cells": [
  {
   "cell_type": "markdown",
   "metadata": {},
   "source": [
    "## Test sur un code orphanet particulier"
   ]
  },
  {
   "cell_type": "code",
   "execution_count": 1,
   "metadata": {
    "scrolled": true
   },
   "outputs": [
    {
     "name": "stdout",
     "output_type": "stream",
     "text": [
      "ORPHA:289465  Adermatoglyphie congénitale isolée\n",
      "Plus d'informations\n",
      "Synonyme(s) : Absence congénitale d'empreintes digitales ; Absence congénitale de dermatoglyphes\n"
     ]
    }
   ],
   "source": [
    "from selenium import webdriver\n",
    "from selenium.webdriver.common.keys import Keys\n",
    "\n",
    "browser = webdriver.Firefox()\n",
    "browser.get('https://www.orpha.net/consor/cgi-bin/Disease.php?lng=FR')\n",
    "browser.find_element_by_id('ORPHA').click()\n",
    "element = browser.find_element_by_id(\"autocomplete_diseaseGroup\")  # Find the search box\n",
    "browser.find_element_by_id('autocomplete_diseaseGroup').clear()\n",
    "element.send_keys(\"289465\" + Keys.RETURN)\n",
    "browser.implicitly_wait(1)\n",
    "lib = browser.find_element_by_class_name('oneResult').text\n",
    "print(lib)\n"
   ]
  },
  {
   "cell_type": "code",
   "execution_count": 2,
   "metadata": {},
   "outputs": [],
   "source": [
    "browser.close()"
   ]
  },
  {
   "cell_type": "markdown",
   "metadata": {},
   "source": [
    "## Lancement"
   ]
  },
  {
   "cell_type": "code",
   "execution_count": 3,
   "metadata": {
    "scrolled": true
   },
   "outputs": [],
   "source": [
    "from selenium import webdriver\n",
    "from selenium.webdriver.common.keys import Keys\n",
    "from selenium.common.exceptions import NoSuchElementException\n",
    "from pandas import read_csv"
   ]
  },
  {
   "cell_type": "code",
   "execution_count": 4,
   "metadata": {},
   "outputs": [],
   "source": [
    "#browser.close()\n",
    "browser = webdriver.Firefox()\n",
    "# browser.get('https://www.orpha.net/consor/cgi-bin/Disease.php?lng=FR')"
   ]
  },
  {
   "cell_type": "markdown",
   "metadata": {},
   "source": [
    "## Fonction pour faire la requête code par code"
   ]
  },
  {
   "cell_type": "code",
   "execution_count": 12,
   "metadata": {},
   "outputs": [],
   "source": [
    "def have_libelle(code, waiting = 0.8):\n",
    "    browser.get('https://www.orpha.net/consor/cgi-bin/Disease.php?lng=FR')\n",
    "    browser.find_element_by_id('ORPHA').click()\n",
    "    element = browser.find_element_by_id(\"autocomplete_diseaseGroup\")  # Find the search box\n",
    "    browser.find_element_by_id('autocomplete_diseaseGroup').clear()\n",
    "    element.send_keys(code + Keys.RETURN)\n",
    "    browser.implicitly_wait(waiting)\n",
    "\n",
    "    # Informations globales\n",
    "    lib = browser.find_element_by_class_name('oneResult').text\n",
    "    browser.find_element_by_class_name('btn-lnk').click()\n",
    "    # Informations détaillées : (synonymes, prévalence, hérédité, âge, code CIM, OMIM, UMLS, MESH, GARD, MedDRA)\n",
    "    lib_infos = browser.find_element_by_class_name('idData').text\n",
    "    return lib + '\\n--\\nDétails\\n--\\n' + lib_infos"
   ]
  },
  {
   "cell_type": "code",
   "execution_count": 13,
   "metadata": {},
   "outputs": [
    {
     "data": {
      "text/plain": [
       "\"ORPHA:289465  Adermatoglyphie congénitale isolée\\nPlus d'informations\\nSynonyme(s) : Absence congénitale d'empreintes digitales ; Absence congénitale de dermatoglyphes\\n--\\nDétails\\n--\\nSynonyme(s) :\\nAbsence congénitale d'empreintes digitales\\nAbsence congénitale de dermatoglyphes\\nPrévalence : Inconnu\\nHérédité : Autosomique dominante \\nÂge d'apparition : Petite enfance, Néonatal\\nCIM-10 : Q82.8\\nOMIM : 136000\\nUMLS : -\\nMeSH : -\\nGARD : 12550\\nMedDRA : -\""
      ]
     },
     "execution_count": 13,
     "metadata": {},
     "output_type": "execute_result"
    }
   ],
   "source": [
    "# Test de la fonction\n",
    "have_libelle('289465', waiting = 2)"
   ]
  },
  {
   "cell_type": "markdown",
   "metadata": {},
   "source": [
    "## Lire les codes orphanet présents dans le pdf (extraits avec pdftools et R)"
   ]
  },
  {
   "cell_type": "code",
   "execution_count": 14,
   "metadata": {},
   "outputs": [
    {
     "data": {
      "text/html": [
       "<div>\n",
       "<style scoped>\n",
       "    .dataframe tbody tr th:only-of-type {\n",
       "        vertical-align: middle;\n",
       "    }\n",
       "\n",
       "    .dataframe tbody tr th {\n",
       "        vertical-align: top;\n",
       "    }\n",
       "\n",
       "    .dataframe thead th {\n",
       "        text-align: right;\n",
       "    }\n",
       "</style>\n",
       "<table border=\"1\" class=\"dataframe\">\n",
       "  <thead>\n",
       "    <tr style=\"text-align: right;\">\n",
       "      <th></th>\n",
       "      <th>liste_codes</th>\n",
       "    </tr>\n",
       "  </thead>\n",
       "  <tbody>\n",
       "    <tr>\n",
       "      <th>0</th>\n",
       "      <td>289465</td>\n",
       "    </tr>\n",
       "    <tr>\n",
       "      <th>1</th>\n",
       "      <td>210122</td>\n",
       "    </tr>\n",
       "    <tr>\n",
       "      <th>2</th>\n",
       "      <td>48818</td>\n",
       "    </tr>\n",
       "    <tr>\n",
       "      <th>3</th>\n",
       "      <td>2008</td>\n",
       "    </tr>\n",
       "    <tr>\n",
       "      <th>4</th>\n",
       "      <td>930</td>\n",
       "    </tr>\n",
       "    <tr>\n",
       "      <th>5</th>\n",
       "      <td>86815</td>\n",
       "    </tr>\n",
       "    <tr>\n",
       "      <th>6</th>\n",
       "      <td>250977</td>\n",
       "    </tr>\n",
       "    <tr>\n",
       "      <th>7</th>\n",
       "      <td>96147</td>\n",
       "    </tr>\n",
       "    <tr>\n",
       "      <th>8</th>\n",
       "      <td>495879</td>\n",
       "    </tr>\n",
       "    <tr>\n",
       "      <th>9</th>\n",
       "      <td>567</td>\n",
       "    </tr>\n",
       "  </tbody>\n",
       "</table>\n",
       "</div>"
      ],
      "text/plain": [
       "   liste_codes\n",
       "0       289465\n",
       "1       210122\n",
       "2        48818\n",
       "3         2008\n",
       "4          930\n",
       "5        86815\n",
       "6       250977\n",
       "7        96147\n",
       "8       495879\n",
       "9          567"
      ]
     },
     "execution_count": 14,
     "metadata": {},
     "output_type": "execute_result"
    }
   ],
   "source": [
    "u = read_csv('/Users/guillaumepressiat/Documents/Developpements/Github/orpha/data/liste_codes_janvier_2018.txt')\n",
    "u.head(10)"
   ]
  },
  {
   "cell_type": "code",
   "execution_count": 18,
   "metadata": {},
   "outputs": [],
   "source": [
    "v = []\n",
    "n = 100\n",
    "waitt = 1.5"
   ]
  },
  {
   "cell_type": "code",
   "execution_count": null,
   "metadata": {},
   "outputs": [],
   "source": [
    "with open('/Users/guillaumepressiat/Documents/Developpements/Github/orpha/data/result_1.csv', \"w\") as output:\n",
    "    for i in range(0, n):\n",
    "        # print(str(i) + ' : ' + str(u['liste_codes'][i]))\n",
    "        r = have_libelle(str(u['liste_codes'][i]), waitt)\n",
    "        v.append(r)\n",
    "        # on écrit le résultat dans un fichier (méthode 1)\n",
    "        output.write(r + '\\n-------------\\n')\n",
    "output.close()"
   ]
  },
  {
   "cell_type": "code",
   "execution_count": null,
   "metadata": {},
   "outputs": [],
   "source": [
    "# Liste résultat \n",
    "# print(v)"
   ]
  },
  {
   "cell_type": "code",
   "execution_count": null,
   "metadata": {},
   "outputs": [],
   "source": [
    "# On écrit le résultat dans un fichier (méthode 2)\n",
    "#import csv\n",
    "\n",
    "#with open('/Users/guillaumepressiat/Documents/Developpements/Github/orpha/data/result_1.csv', \"w\") as output:\n",
    "#    writer = csv.writer(output, lineterminator='\\n')\n",
    "#    for val in v:\n",
    "#        writer.writerow([val])    \n"
   ]
  }
 ],
 "metadata": {
  "kernelspec": {
   "display_name": "Python 3",
   "language": "python",
   "name": "python3"
  }
 },
 "nbformat": 4,
 "nbformat_minor": 2
}
