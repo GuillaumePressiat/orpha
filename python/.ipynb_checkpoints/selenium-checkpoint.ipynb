{
 "cells": [
  {
   "cell_type": "markdown",
   "metadata": {},
   "source": [
    "## Test sur un code orphanet particulier"
   ]
  },
  {
   "cell_type": "code",
   "execution_count": 115,
   "metadata": {
    "scrolled": true
   },
   "outputs": [
    {
     "name": "stdout",
     "output_type": "stream",
     "text": [
      "ORPHA:289465  Adermatoglyphie congénitale isolée\n",
      "Plus d'informations\n",
      "Synonyme(s) : Absence congénitale d'empreintes digitales ; Absence congénitale de dermatoglyphes\n"
     ]
    }
   ],
   "source": [
    "from selenium import webdriver\n",
    "from selenium.webdriver.common.keys import Keys\n",
    "\n",
    "browser = webdriver.Firefox()\n",
    "browser.get('https://www.orpha.net/consor/cgi-bin/Disease.php?lng=FR')\n",
    "browser.find_element_by_id('ORPHA').click()\n",
    "element = browser.find_element_by_id(\"autocomplete_diseaseGroup\")  # Find the search box\n",
    "browser.find_element_by_id('autocomplete_diseaseGroup').clear()\n",
    "element.send_keys(\"289465\" + Keys.RETURN)\n",
    "browser.implicitly_wait(1)\n",
    "lib = browser.find_element_by_class_name('oneResult').text\n",
    "print(lib)\n"
   ]
  },
  {
   "cell_type": "code",
   "execution_count": 112,
   "metadata": {},
   "outputs": [
    {
     "name": "stdout",
     "output_type": "stream",
     "text": [
      "ORPHA:289465  Adermatoglyphie congénitale isolée\n",
      "Plus d'informations\n",
      "Synonyme(s) : Absence congénitale d'empreintes digitales ; Absence congénitale de dermatoglyphes\n"
     ]
    }
   ],
   "source": [
    "browser.close()"
   ]
  },
  {
   "cell_type": "code",
   "execution_count": 237,
   "metadata": {
    "scrolled": true
   },
   "outputs": [],
   "source": [
    "from selenium import webdriver\n",
    "from selenium.webdriver.common.keys import Keys\n",
    "from selenium.common.exceptions import NoSuchElementException\n",
    "from pandas import read_csv"
   ]
  },
  {
   "cell_type": "code",
   "execution_count": 238,
   "metadata": {},
   "outputs": [],
   "source": [
    "#browser.close()\n",
    "browser = webdriver.Firefox()\n",
    "# browser.get('https://www.orpha.net/consor/cgi-bin/Disease.php?lng=FR')"
   ]
  },
  {
   "cell_type": "markdown",
   "metadata": {},
   "source": [
    "## Fonction pour faire la requête code par code"
   ]
  },
  {
   "cell_type": "code",
   "execution_count": 245,
   "metadata": {},
   "outputs": [],
   "source": [
    "def have_libelle(code, waiting = 0.8):\n",
    "    browser.get('https://www.orpha.net/consor/cgi-bin/Disease.php?lng=FR')\n",
    "    browser.find_element_by_id('ORPHA').click()\n",
    "    element = browser.find_element_by_id(\"autocomplete_diseaseGroup\")  # Find the search box\n",
    "    browser.find_element_by_id('autocomplete_diseaseGroup').clear()\n",
    "    element.send_keys(code + Keys.RETURN)\n",
    "    browser.implicitly_wait(waiting)\n",
    "\n",
    "    # Informations globales\n",
    "    lib = browser.find_element_by_class_name('oneResult').text\n",
    "    browser.find_element_by_class_name('btn-lnk').click()\n",
    "    # Informations détaillées : (synonymes, prévalence, hérédité, âge, code CIM, OMIM, UMLS, MESH, GARD, MedDRA)\n",
    "    lib_infos = browser.find_element_by_class_name('idData').text\n",
    "    return lib + lib_infos"
   ]
  },
  {
   "cell_type": "code",
   "execution_count": 240,
   "metadata": {},
   "outputs": [
    {
     "data": {
      "text/plain": [
       "\"ORPHA:289465  Adermatoglyphie congénitale isolée\\nPlus d'informations\\nSynonyme(s) : Absence congénitale d'empreintes digitales ; Absence congénitale de dermatoglyphesSynonyme(s) :\\nAbsence congénitale d'empreintes digitales\\nAbsence congénitale de dermatoglyphes\\nPrévalence : Inconnu\\nHérédité : Autosomique dominante \\nÂge d'apparition : Petite enfance, Néonatal\\nCIM-10 : Q82.8\\nOMIM : 136000\\nUMLS : -\\nMeSH : -\\nGARD : 12550\\nMedDRA : -\""
      ]
     },
     "execution_count": 240,
     "metadata": {},
     "output_type": "execute_result"
    }
   ],
   "source": [
    "# Test de la fonction\n",
    "have_libelle('289465')"
   ]
  },
  {
   "cell_type": "markdown",
   "metadata": {},
   "source": [
    "## Lire les codes orphanet présents dans le pdf (extraits avec pdftools et R)"
   ]
  },
  {
   "cell_type": "code",
   "execution_count": 246,
   "metadata": {},
   "outputs": [
    {
     "data": {
      "text/html": [
       "<div>\n",
       "<style scoped>\n",
       "    .dataframe tbody tr th:only-of-type {\n",
       "        vertical-align: middle;\n",
       "    }\n",
       "\n",
       "    .dataframe tbody tr th {\n",
       "        vertical-align: top;\n",
       "    }\n",
       "\n",
       "    .dataframe thead th {\n",
       "        text-align: right;\n",
       "    }\n",
       "</style>\n",
       "<table border=\"1\" class=\"dataframe\">\n",
       "  <thead>\n",
       "    <tr style=\"text-align: right;\">\n",
       "      <th></th>\n",
       "      <th>liste_codes</th>\n",
       "    </tr>\n",
       "  </thead>\n",
       "  <tbody>\n",
       "    <tr>\n",
       "      <th>0</th>\n",
       "      <td>289465</td>\n",
       "    </tr>\n",
       "    <tr>\n",
       "      <th>1</th>\n",
       "      <td>210122</td>\n",
       "    </tr>\n",
       "    <tr>\n",
       "      <th>2</th>\n",
       "      <td>48818</td>\n",
       "    </tr>\n",
       "    <tr>\n",
       "      <th>3</th>\n",
       "      <td>2008</td>\n",
       "    </tr>\n",
       "    <tr>\n",
       "      <th>4</th>\n",
       "      <td>930</td>\n",
       "    </tr>\n",
       "    <tr>\n",
       "      <th>5</th>\n",
       "      <td>86815</td>\n",
       "    </tr>\n",
       "    <tr>\n",
       "      <th>6</th>\n",
       "      <td>250977</td>\n",
       "    </tr>\n",
       "    <tr>\n",
       "      <th>7</th>\n",
       "      <td>96147</td>\n",
       "    </tr>\n",
       "    <tr>\n",
       "      <th>8</th>\n",
       "      <td>495879</td>\n",
       "    </tr>\n",
       "    <tr>\n",
       "      <th>9</th>\n",
       "      <td>567</td>\n",
       "    </tr>\n",
       "  </tbody>\n",
       "</table>\n",
       "</div>"
      ],
      "text/plain": [
       "   liste_codes\n",
       "0       289465\n",
       "1       210122\n",
       "2        48818\n",
       "3         2008\n",
       "4          930\n",
       "5        86815\n",
       "6       250977\n",
       "7        96147\n",
       "8       495879\n",
       "9          567"
      ]
     },
     "execution_count": 246,
     "metadata": {},
     "output_type": "execute_result"
    }
   ],
   "source": [
    "u = read_csv('/Users/guillaumepressiat/Documents/Developpements/Github/orpha/data/liste_codes_janvier_2018.txt')\n",
    "u.head(10)"
   ]
  },
  {
   "cell_type": "code",
   "execution_count": 249,
   "metadata": {},
   "outputs": [],
   "source": [
    "v = []\n",
    "n = 10"
   ]
  },
  {
   "cell_type": "code",
   "execution_count": 250,
   "metadata": {},
   "outputs": [
    {
     "name": "stdout",
     "output_type": "stream",
     "text": [
      "0 : 289465\n",
      "1 : 210122\n",
      "2 : 48818\n",
      "3 : 2008\n",
      "4 : 930\n",
      "5 : 86815\n",
      "6 : 250977\n",
      "7 : 96147\n",
      "8 : 495879\n",
      "9 : 567\n"
     ]
    }
   ],
   "source": [
    "with open('/Users/guillaumepressiat/Documents/Developpements/Github/orpha/data/result_1.csv', \"w\") as output:\n",
    "    for i in range(0, n):\n",
    "        print(str(i) + ' : ' + str(u['liste_codes'][i]))\n",
    "        r = have_libelle(str(u['liste_codes'][i]))\n",
    "        v.append(r)\n",
    "        # on écrit le résultat dans un csv (méthode 1)\n",
    "        output.write(r + '\\n-------------\\n')\n",
    "output.close()"
   ]
  },
  {
   "cell_type": "code",
   "execution_count": 146,
   "metadata": {},
   "outputs": [
    {
     "name": "stdout",
     "output_type": "stream",
     "text": [
      "[\"ORPHA:289465  Adermatoglyphie congénitale isolée\\nPlus d'informations\\nSynonyme(s) : Absence congénitale d'empreintes digitales ; Absence congénitale de dermatoglyphes\", \"ORPHA:210122  Dysplasie alvéolo-capillaire congénitale\\nPlus d'informations\\nSynonyme(s) : ACDMPV ; Dysplasie alvéolo-capillaire avec défaut d'alignement des vaisseaux pulmonaires\", \"ORPHA:48818  Acéruléoplasminémie\\nPlus d'informations\\nSynonyme(s) : Déficit héréditaire en céruloplasmine\", \"ORPHA:2008  Syndrome acrocardiofacial\\nPlus d'informations\\nSynonyme(s) : ACFS ; Syndrome CCGE ; Syndrome de fente palatine-cardiopathie-anomalies génitales-ectrodactylie\", \"ORPHA:930  Achalasie oesophagienne idiopathique\\nPlus d'informations\\nSynonyme(s) : Achalasie du cardia ; Achalasie idiopathique de l'oesophage ; Achalasie primaire de l'oesophage ; Achalasie primitive de l'oesophage ; Mégaoesophage idiopathique\", \"ORPHA:86815  Aplasie des glandes salivaires et lacrymales\\nPlus d'informations\\nSynonyme(s) : ALSG ; Absence congénitale des glandes salivaires et lacrymales\", \"ORPHA:250977  AICA-ribosidurie\\nPlus d'informations\\nSynonyme(s) : 5-amino-4-imidazole carboxamide ribosidurie ; Déficit en ATIC\", \"ORPHA:96147  Syndrome de Kleefstra dû à une microdélétion 9q34\\nPlus d'informations\\nSynonyme(s) : 9qSTDS ; Syndrome de Kleefstra dû à une del(9)(q34) ; Syndrome de Kleefstra dû à une délétion subtélomérique 9q ; Syndrome de Kleefstra dû à une monosomie 9q34\", \"ORPHA:495879  Agénésie congénitale du scrotum\\nPlus d'informations\\nSynonyme(s) : Absence congénitale du scrotum ; Agénésie scrotale congénitale\", \"ORPHA:567  Syndrome de délétion 22q11.2\\nPlus d'informations\\nSynonyme(s) : 22q11DS ; CATCH 22 ; Microdélétion 22q11.2 ; Monosomie 22q11 ; Syndrome cardio-facial de Cayler ; Syndrome de DiGeorge ; Syndrome de Sedlackova ; Syndrome de Shprintzen ; Syndrome de Takao ; Syndrome des anomalies conotroncales et de la face ; Syndrome vélo-cardio-facial ; Séquence de DiGeorge\\nMots-clés : Aplasie thymique ; Aplasie thymus ; Athymique\", \"ORPHA:22  Déficit en succinate-semi-aldéhyde déshydrogénase\\nPlus d'informations\\nSynonyme(s) : Acidurie 4-hydroxybutyrique ; Acidurie gamma-hydroxybutyrique ; Déficit en SSADH\", \"ORPHA:11  Pentasomie X\\nPlus d'informations\\nSynonyme(s) : Penta-X ; Poly-X ; Syndrome 49,XXXXX\", \"ORPHA:96269  Agénésie vaginale isolée partielle\\nPlus d'informations\\nSynonyme(s) : Absence congénitale du vagin\", \"ORPHA:100055  Angio-oedème acquis type II\\nPlus d'informations\\nSynonyme(s) : AAE 2 ; AAE II ; Angio-oedème bradykinique acquis type II ; Oedème angioneurotique acquis type II\", \"ORPHA:931  Acheiropodie\\nPlus d'informations\", \"ORPHA:284460  Rétinopathie externe annulaire aiguë\\nPlus d'informations\\nSynonyme(s) : AAOR\", \"ORPHA:324353  Achiasma congénital\\nPlus d'informations\", \"ORPHA:54251  Syndrome des abcès aseptiques corticosensibles\\nPlus d'informations\\nSynonyme(s) : Abcès aseptiques disséminés ; Abcès aseptiques systémiques ; Syndrome des abcès aseptiques\", \"ORPHA:99110  Abouchement de la veine cave supérieure droite dans l'oreillette gauche\\nPlus d'informations\", \"ORPHA:49382  Achromatopsie\\nPlus d'informations\\nSynonyme(s) : ACHM ; Achromatie ; Achromatopsie complète ; Cécité de Pingelap ; Monochromatie à bâtonnets\\nMots-clés : Achromatopsie compléte ; Achromatopsie imcomplète\", \"ORPHA:932  Achondrogenèse\\nPlus d'informations\", \"ORPHA:99109  Abouchement de la veine cave supérieure gauche dans le sinus coronaire\\nPlus d'informations\", \"ORPHA:93299  Achondrogenèse type 1A\\nPlus d'informations\\nSynonyme(s) : Achondrogenèse type Houston-Harris\", \"ORPHA:93298  Achondrogenèse type 1B\\nPlus d'informations\\nSynonyme(s) : Achondrogenèse type Parenti-Fraccaro\", \"ORPHA:93296  Achondrogenèse type 2\\nPlus d'informations\\nSynonyme(s) : Achondrogenèse type Langer-Saldino\", \"ORPHA:99111  Abouchement de la veine cave supérieure gauche dans le toit de l'oreillette gauche\\nPlus d'informations\", \"ORPHA:1164  Aspergillose broncho-pulmonaire allergique\\nPlus d'informations\\nSynonyme(s) : ABPA ; Aspergillose allergique ; Maladie de Hinson-Pepys\", \"ORPHA:99112  Absence de veine innominée\\nPlus d'informations\\nSynonyme(s) : Absence de veine brachiocéphalique\", \"ORPHA:945  Absence de voûte crânienne\\nPlus d'informations\\nMots-clés : Acrânie\", \"ORPHA:15  Achondroplasie\\nPlus d'informations\", \"ORPHA:980  Absence d'une artère pulmonaire\\nPlus d'informations\", \"ORPHA:922  Absence familiale de cils nasaux\\nPlus d'informations\", \"ORPHA:16  Monochromatisme à cônes bleus\\nPlus d'informations\\nSynonyme(s) : Achromatopsie atypique liée à l'X ; Achromatopsie incomplète liée à l'X ; Monochromatie à cônes S ; Monochromatie à cônes bleus ; Monochromatisme à cônes S\", \"ORPHA:48  Absence congénitale bilatérale des canaux déférents\\nPlus d'informations\\nSynonyme(s) : Agénésie congénitale bilatérale des canaux déférents ; Aplasie congénitale bilatérale des canaux déférents\", \"ORPHA:356978  Acidurie D,L-2-hydroxyglutarique\\nPlus d'informations\\nSynonyme(s) : Acidurie combinée D-2-hydroxyglutarique et L-2-hydroxyglutarique ; Acidémie D,L-2-hydroxyglutarique ; Acidémie combinée D-2-hydroxyglutarique et L-2-hydroxyglutarique ; L-2-HGA\", \"ORPHA:289504  Acidémie combinée malonique et méthylmalonique\\nPlus d'informations\\nSynonyme(s) : Acidurie combinée malonique et méthylmalonique ; CMAMMA\", \"ORPHA:2879  Phocomélie type Schinzel\\nPlus d'informations\\nSynonyme(s) : Absence congénitale de cubitus et de péroné ; Aplasie/hypoplasie des membres et du pelvis ; Déficit sévère des membres ; Syndrome d'Al Awadi-Raas-Rothschild\", \"ORPHA:973  Absence/hypoplasie congénitale unilatérale des doigts à l'exception du pouce\\nPlus d'informations\\nSynonyme(s) : Adactylie unilatérale de la main ; Hypodactylie unilatérale des doigts 2-5 ; Oligodactylie unilatérale des doigts 2-5\", \"ORPHA:79315  Acidurie D-2-hydroxyglutarique\\nPlus d'informations\\nSynonyme(s) : Acidémie D-2-hydroxyglutarique ; D-2-HGA\", \"ORPHA:941  Acidurie D-glycérique\\nPlus d'informations\\nSynonyme(s) : Acidémie D-glycérique ; Déficit en D-glycérate kinase\", \"ORPHA:25  Déficit en glutaryl-CoA déshydrogénase\\nPlus d'informations\\nSynonyme(s) : Acidurie glutarique type 1 ; Acidémie glutarique type 1 ; Déficit en glutaryl-coenzyme A déshydrogénase ; GA1 ; GCDHD\", \"ORPHA:14  Abêtalipoprotéinémie\\nPlus d'informations\\nSynonyme(s) : Hypobêtalipoprotéinémie sévère précoce ; Maladie de Bassen-Kornzweig\\nMots-clés : Hypobétalipoprotéinémie\", \"ORPHA:26791  Déficit multiple en acyl-CoA déshydrogénases\\nPlus d'informations\\nSynonyme(s) : Acidurie glutarique type 2 ; Acidémie glutarique type 2 ; Déficit en MAD ; MADD\\nMots-clés : Déficit en flavoprotéines de transfert d'électrons\", \"ORPHA:300504  Matricome onychocytique\\nPlus d'informations\\nSynonyme(s) : Acanthome de la matrice des ongles ; Acanthome de la matrice unguéale\", \"ORPHA:329942  Déficit néonatal transitoire multiple en acyl-CoA déshydrogénases\\nPlus d'informations\\nSynonyme(s) : Acidurie glutarique type 2 néonatale transitoire ; Acidémie glutarique type 2 néonatale transitoire ; Déficit néonatal transitoire en MAD ; MADD néonatal transitoire\", \"ORPHA:394532  Déficit multiple en acyl-CoA déshydrogénase, type modéré\\nPlus d'informations\\nSynonyme(s) : Acidémie glutarique type 2, type modéré ; Déficit en MAD, type modéré\", \"ORPHA:926  Acatalasémie\\nPlus d'informations\\nSynonyme(s) : Déficit en catalase\", \"ORPHA:394529  Déficit multiple en acyl-CoA déshydrogénase, type sévère néonatal\\nPlus d'informations\\nSynonyme(s) : Acidémie glutarique type 2, type sévère néonatal ; Déficit en MAD, type sévère néonatal\", \"ORPHA:93322  Hémimélie tibiale\\nPlus d'informations\\nSynonyme(s) : Absence congénitale de tibia ; Aplasie et dysplasie du tibia avec péroné intact ; Déficit congénital longitudinal du tibia ; Méromélie tibiale longitudinale\", \"ORPHA:35706  Acidémie glutarique type 3\\nPlus d'informations\\nSynonyme(s) : Acidurie glutarique type 3 ; Déficit en glutaryl-CoA oxydase\", \"ORPHA:33  Acidémie isovalérique\\nPlus d'informations\\nSynonyme(s) : Déficit en Isovaléryl-CoA déshydrogénase\", \"ORPHA:79314  Acidurie L-2-hydroxyglutarique\\nPlus d'informations\\nSynonyme(s) : Acidémie L-2-hydroxyglutarique ; L-2-HGA\", \"ORPHA:402041  Acidose tubulaire rénale distale autosomique récessive\\nPlus d'informations\\nSynonyme(s) : AR dRTA ; ATR distale autosomique récessive ; ATRd AR\\nMots-clés : Acidose tubulaire rénale distale type 1b\", \"ORPHA:26  Acidémie méthylmalonique avec homocystinurie\\nPlus d'informations\\nSynonyme(s) : Acidurie méthylmalonique avec homocystinurie ; Déficit combiné de synthèse de l'adénosylcobalamine et de la méthylcobalamine\", \"ORPHA:79282  Acidémie méthylmalonique avec homocystinurie type cblC\\nPlus d'informations\\nSynonyme(s) : Acidurie méthylmalonique avec homocystinurie type cblC ; Déficit combiné de synthèse de l'adénosylcobalamine et de la méthylcobalamine type cblC ; Déficit en cblC ; Déficit en cobalamine C\", \"ORPHA:79283  Acidémie méthylmalonique avec homocystinurie type cblD\\nPlus d'informations\\nSynonyme(s) : Acidurie méthylmalonique avec homocystinurie type cblD ; Déficit combiné de synthèse de l'adénosylcobalamine et de la méthylcobalamine type cblD ; Déficit en cblD ; Déficit en cobalamine D\", \"ORPHA:93610  Acidose tubulaire rénale distale avec anémie\\nPlus d'informations\\nSynonyme(s) : ATRd avec anémie ; dRTA avec anémie\", \"ORPHA:51208  Acidurie formiminoglutamique\\nPlus d'informations\\nSynonyme(s) : Déficit en FTCD ; Déficit en formiminotransférase cyclodésaminase ; Déficit en glutamate formiminotransférase\", \"ORPHA:79284  Acidémie méthylmalonique avec homocystinurie type cblF\\nPlus d'informations\\nSynonyme(s) : Acidurie méthylmalonique avec homocystinurie type cblF ; Défaut de libération lysosomale de la vitamine B12 ; Défaut de transport de la cobalamine à la membrane lysosomale ; Déficit combiné de synthèse de l'adénosylcobalamine et de la méthylcobalamine type cblF ; Déficit en cobalamine F\\nMots-clés : Acidémie méthylmalonique avec homocystinurie type cblJ\", \"ORPHA:24  Acidurie fumarique\\nPlus d'informations\\nSynonyme(s) : Déficit en fumarase\", \"ORPHA:369955  Acidémie méthylmalonique avec homocystinurie type cblJ\\nPlus d'informations\\nSynonyme(s) : Acidurie méthylmalonique avec homocystinurie type cblJ ; Déficit combiné de synthèse de l'adénosylcobalamine et de la méthylcobalamine type cblJ ; Déficit en cblJ ; Déficit en cobalamine J\", \"ORPHA:2785  Ostéopétrose avec acidose tubulaire rénale\\nPlus d'informations\\nSynonyme(s) : Acidose tubulaire rénale mixte ; Acidose tubulaire rénale type 3 ; Déficit en anhydrase carbonique II ; Syndrome de Guibaud-Vainsel\", \"ORPHA:369962  Acidémie méthylmalonique avec homocystinurie type cblX\\nPlus d'informations\\nSynonyme(s) : Acidurie méthylmalonique avec homocystinurie type cblX ; Déficit combiné de synthèse de l'adénosylcobalamine et de la méthylcobalamine type cblX\", \"ORPHA:47159  Acidose tubulaire rénale proximale\\nPlus d'informations\\nSynonyme(s) : ATRp ; Acidose tubulaire rénale type 2 ; pRTA\", \"ORPHA:79312  Acidémie méthylmalonique isolée résistante à la vitamine B12 type mut-\\nPlus d'informations\\nSynonyme(s) : Acidurie méthylmalonique résistante à la vitamine B12 type mut- ; Déficit partiel en méthylmalonyl-CoA mutase\", \"ORPHA:289465  Adermatoglyphie congénitale isolée\\nPlus d'informations\\nSynonyme(s) : Absence congénitale d'empreintes digitales ; Absence congénitale de dermatoglyphes\", \"ORPHA:210122  Dysplasie alvéolo-capillaire congénitale\\nPlus d'informations\\nSynonyme(s) : ACDMPV ; Dysplasie alvéolo-capillaire avec défaut d'alignement des vaisseaux pulmonaires\", \"ORPHA:48818  Acéruléoplasminémie\\nPlus d'informations\\nSynonyme(s) : Déficit héréditaire en céruloplasmine\", \"ORPHA:2008  Syndrome acrocardiofacial\\nPlus d'informations\\nSynonyme(s) : ACFS ; Syndrome CCGE ; Syndrome de fente palatine-cardiopathie-anomalies génitales-ectrodactylie\", \"ORPHA:930  Achalasie oesophagienne idiopathique\\nPlus d'informations\\nSynonyme(s) : Achalasie du cardia ; Achalasie idiopathique de l'oesophage ; Achalasie primaire de l'oesophage ; Achalasie primitive de l'oesophage ; Mégaoesophage idiopathique\", \"ORPHA:86815  Aplasie des glandes salivaires et lacrymales\\nPlus d'informations\\nSynonyme(s) : ALSG ; Absence congénitale des glandes salivaires et lacrymales\", \"ORPHA:250977  AICA-ribosidurie\\nPlus d'informations\\nSynonyme(s) : 5-amino-4-imidazole carboxamide ribosidurie ; Déficit en ATIC\", \"ORPHA:96147  Syndrome de Kleefstra dû à une microdélétion 9q34\\nPlus d'informations\\nSynonyme(s) : 9qSTDS ; Syndrome de Kleefstra dû à une del(9)(q34) ; Syndrome de Kleefstra dû à une délétion subtélomérique 9q ; Syndrome de Kleefstra dû à une monosomie 9q34\", \"ORPHA:495879  Agénésie congénitale du scrotum\\nPlus d'informations\\nSynonyme(s) : Absence congénitale du scrotum ; Agénésie scrotale congénitale\", \"ORPHA:567  Syndrome de délétion 22q11.2\\nPlus d'informations\\nSynonyme(s) : 22q11DS ; CATCH 22 ; Microdélétion 22q11.2 ; Monosomie 22q11 ; Syndrome cardio-facial de Cayler ; Syndrome de DiGeorge ; Syndrome de Sedlackova ; Syndrome de Shprintzen ; Syndrome de Takao ; Syndrome des anomalies conotroncales et de la face ; Syndrome vélo-cardio-facial ; Séquence de DiGeorge\\nMots-clés : Aplasie thymique ; Aplasie thymus ; Athymique\", \"ORPHA:22  Déficit en succinate-semi-aldéhyde déshydrogénase\\nPlus d'informations\\nSynonyme(s) : Acidurie 4-hydroxybutyrique ; Acidurie gamma-hydroxybutyrique ; Déficit en SSADH\", \"ORPHA:11  Pentasomie X\\nPlus d'informations\\nSynonyme(s) : Penta-X ; Poly-X ; Syndrome 49,XXXXX\", \"ORPHA:96269  Agénésie vaginale isolée partielle\\nPlus d'informations\\nSynonyme(s) : Absence congénitale du vagin\", \"ORPHA:100055  Angio-oedème acquis type II\\nPlus d'informations\\nSynonyme(s) : AAE 2 ; AAE II ; Angio-oedème bradykinique acquis type II ; Oedème angioneurotique acquis type II\", \"ORPHA:931  Acheiropodie\\nPlus d'informations\", \"ORPHA:284460  Rétinopathie externe annulaire aiguë\\nPlus d'informations\\nSynonyme(s) : AAOR\", \"ORPHA:324353  Achiasma congénital\\nPlus d'informations\", \"ORPHA:54251  Syndrome des abcès aseptiques corticosensibles\\nPlus d'informations\\nSynonyme(s) : Abcès aseptiques disséminés ; Abcès aseptiques systémiques ; Syndrome des abcès aseptiques\", \"ORPHA:99110  Abouchement de la veine cave supérieure droite dans l'oreillette gauche\\nPlus d'informations\", \"ORPHA:49382  Achromatopsie\\nPlus d'informations\\nSynonyme(s) : ACHM ; Achromatie ; Achromatopsie complète ; Cécité de Pingelap ; Monochromatie à bâtonnets\\nMots-clés : Achromatopsie compléte ; Achromatopsie imcomplète\", \"ORPHA:932  Achondrogenèse\\nPlus d'informations\", \"ORPHA:99109  Abouchement de la veine cave supérieure gauche dans le sinus coronaire\\nPlus d'informations\", \"ORPHA:93299  Achondrogenèse type 1A\\nPlus d'informations\\nSynonyme(s) : Achondrogenèse type Houston-Harris\", \"ORPHA:93298  Achondrogenèse type 1B\\nPlus d'informations\\nSynonyme(s) : Achondrogenèse type Parenti-Fraccaro\", \"ORPHA:93296  Achondrogenèse type 2\\nPlus d'informations\\nSynonyme(s) : Achondrogenèse type Langer-Saldino\", \"ORPHA:99111  Abouchement de la veine cave supérieure gauche dans le toit de l'oreillette gauche\\nPlus d'informations\", \"ORPHA:1164  Aspergillose broncho-pulmonaire allergique\\nPlus d'informations\\nSynonyme(s) : ABPA ; Aspergillose allergique ; Maladie de Hinson-Pepys\", \"ORPHA:99112  Absence de veine innominée\\nPlus d'informations\\nSynonyme(s) : Absence de veine brachiocéphalique\", \"ORPHA:945  Absence de voûte crânienne\\nPlus d'informations\\nMots-clés : Acrânie\", \"ORPHA:15  Achondroplasie\\nPlus d'informations\", \"ORPHA:980  Absence d'une artère pulmonaire\\nPlus d'informations\", \"ORPHA:922  Absence familiale de cils nasaux\\nPlus d'informations\", \"ORPHA:16  Monochromatisme à cônes bleus\\nPlus d'informations\\nSynonyme(s) : Achromatopsie atypique liée à l'X ; Achromatopsie incomplète liée à l'X ; Monochromatie à cônes S ; Monochromatie à cônes bleus ; Monochromatisme à cônes S\", \"ORPHA:48  Absence congénitale bilatérale des canaux déférents\\nPlus d'informations\\nSynonyme(s) : Agénésie congénitale bilatérale des canaux déférents ; Aplasie congénitale bilatérale des canaux déférents\", \"ORPHA:356978  Acidurie D,L-2-hydroxyglutarique\\nPlus d'informations\\nSynonyme(s) : Acidurie combinée D-2-hydroxyglutarique et L-2-hydroxyglutarique ; Acidémie D,L-2-hydroxyglutarique ; Acidémie combinée D-2-hydroxyglutarique et L-2-hydroxyglutarique ; L-2-HGA\", \"ORPHA:289504  Acidémie combinée malonique et méthylmalonique\\nPlus d'informations\\nSynonyme(s) : Acidurie combinée malonique et méthylmalonique ; CMAMMA\", \"ORPHA:2879  Phocomélie type Schinzel\\nPlus d'informations\\nSynonyme(s) : Absence congénitale de cubitus et de péroné ; Aplasie/hypoplasie des membres et du pelvis ; Déficit sévère des membres ; Syndrome d'Al Awadi-Raas-Rothschild\", \"ORPHA:973  Absence/hypoplasie congénitale unilatérale des doigts à l'exception du pouce\\nPlus d'informations\\nSynonyme(s) : Adactylie unilatérale de la main ; Hypodactylie unilatérale des doigts 2-5 ; Oligodactylie unilatérale des doigts 2-5\", \"ORPHA:79315  Acidurie D-2-hydroxyglutarique\\nPlus d'informations\\nSynonyme(s) : Acidémie D-2-hydroxyglutarique ; D-2-HGA\", \"ORPHA:941  Acidurie D-glycérique\\nPlus d'informations\\nSynonyme(s) : Acidémie D-glycérique ; Déficit en D-glycérate kinase\", \"ORPHA:25  Déficit en glutaryl-CoA déshydrogénase\\nPlus d'informations\\nSynonyme(s) : Acidurie glutarique type 1 ; Acidémie glutarique type 1 ; Déficit en glutaryl-coenzyme A déshydrogénase ; GA1 ; GCDHD\", \"ORPHA:14  Abêtalipoprotéinémie\\nPlus d'informations\\nSynonyme(s) : Hypobêtalipoprotéinémie sévère précoce ; Maladie de Bassen-Kornzweig\\nMots-clés : Hypobétalipoprotéinémie\", \"ORPHA:26791  Déficit multiple en acyl-CoA déshydrogénases\\nPlus d'informations\\nSynonyme(s) : Acidurie glutarique type 2 ; Acidémie glutarique type 2 ; Déficit en MAD ; MADD\\nMots-clés : Déficit en flavoprotéines de transfert d'électrons\", \"ORPHA:300504  Matricome onychocytique\\nPlus d'informations\\nSynonyme(s) : Acanthome de la matrice des ongles ; Acanthome de la matrice unguéale\", \"ORPHA:329942  Déficit néonatal transitoire multiple en acyl-CoA déshydrogénases\\nPlus d'informations\\nSynonyme(s) : Acidurie glutarique type 2 néonatale transitoire ; Acidémie glutarique type 2 néonatale transitoire ; Déficit néonatal transitoire en MAD ; MADD néonatal transitoire\", \"ORPHA:394532  Déficit multiple en acyl-CoA déshydrogénase, type modéré\\nPlus d'informations\\nSynonyme(s) : Acidémie glutarique type 2, type modéré ; Déficit en MAD, type modéré\", \"ORPHA:926  Acatalasémie\\nPlus d'informations\\nSynonyme(s) : Déficit en catalase\", \"ORPHA:394529  Déficit multiple en acyl-CoA déshydrogénase, type sévère néonatal\\nPlus d'informations\\nSynonyme(s) : Acidémie glutarique type 2, type sévère néonatal ; Déficit en MAD, type sévère néonatal\", \"ORPHA:93322  Hémimélie tibiale\\nPlus d'informations\\nSynonyme(s) : Absence congénitale de tibia ; Aplasie et dysplasie du tibia avec péroné intact ; Déficit congénital longitudinal du tibia ; Méromélie tibiale longitudinale\", \"ORPHA:35706  Acidémie glutarique type 3\\nPlus d'informations\\nSynonyme(s) : Acidurie glutarique type 3 ; Déficit en glutaryl-CoA oxydase\", \"ORPHA:33  Acidémie isovalérique\\nPlus d'informations\\nSynonyme(s) : Déficit en Isovaléryl-CoA déshydrogénase\", \"ORPHA:79314  Acidurie L-2-hydroxyglutarique\\nPlus d'informations\\nSynonyme(s) : Acidémie L-2-hydroxyglutarique ; L-2-HGA\", \"ORPHA:402041  Acidose tubulaire rénale distale autosomique récessive\\nPlus d'informations\\nSynonyme(s) : AR dRTA ; ATR distale autosomique récessive ; ATRd AR\\nMots-clés : Acidose tubulaire rénale distale type 1b\", \"ORPHA:26  Acidémie méthylmalonique avec homocystinurie\\nPlus d'informations\\nSynonyme(s) : Acidurie méthylmalonique avec homocystinurie ; Déficit combiné de synthèse de l'adénosylcobalamine et de la méthylcobalamine\", \"ORPHA:79282  Acidémie méthylmalonique avec homocystinurie type cblC\\nPlus d'informations\\nSynonyme(s) : Acidurie méthylmalonique avec homocystinurie type cblC ; Déficit combiné de synthèse de l'adénosylcobalamine et de la méthylcobalamine type cblC ; Déficit en cblC ; Déficit en cobalamine C\", \"ORPHA:79283  Acidémie méthylmalonique avec homocystinurie type cblD\\nPlus d'informations\\nSynonyme(s) : Acidurie méthylmalonique avec homocystinurie type cblD ; Déficit combiné de synthèse de l'adénosylcobalamine et de la méthylcobalamine type cblD ; Déficit en cblD ; Déficit en cobalamine D\", \"ORPHA:93610  Acidose tubulaire rénale distale avec anémie\\nPlus d'informations\\nSynonyme(s) : ATRd avec anémie ; dRTA avec anémie\", \"ORPHA:51208  Acidurie formiminoglutamique\\nPlus d'informations\\nSynonyme(s) : Déficit en FTCD ; Déficit en formiminotransférase cyclodésaminase ; Déficit en glutamate formiminotransférase\", \"ORPHA:79284  Acidémie méthylmalonique avec homocystinurie type cblF\\nPlus d'informations\\nSynonyme(s) : Acidurie méthylmalonique avec homocystinurie type cblF ; Défaut de libération lysosomale de la vitamine B12 ; Défaut de transport de la cobalamine à la membrane lysosomale ; Déficit combiné de synthèse de l'adénosylcobalamine et de la méthylcobalamine type cblF ; Déficit en cobalamine F\\nMots-clés : Acidémie méthylmalonique avec homocystinurie type cblJ\", \"ORPHA:24  Acidurie fumarique\\nPlus d'informations\\nSynonyme(s) : Déficit en fumarase\", \"ORPHA:369955  Acidémie méthylmalonique avec homocystinurie type cblJ\\nPlus d'informations\\nSynonyme(s) : Acidurie méthylmalonique avec homocystinurie type cblJ ; Déficit combiné de synthèse de l'adénosylcobalamine et de la méthylcobalamine type cblJ ; Déficit en cblJ ; Déficit en cobalamine J\", \"ORPHA:2785  Ostéopétrose avec acidose tubulaire rénale\\nPlus d'informations\\nSynonyme(s) : Acidose tubulaire rénale mixte ; Acidose tubulaire rénale type 3 ; Déficit en anhydrase carbonique II ; Syndrome de Guibaud-Vainsel\", \"ORPHA:369962  Acidémie méthylmalonique avec homocystinurie type cblX\\nPlus d'informations\\nSynonyme(s) : Acidurie méthylmalonique avec homocystinurie type cblX ; Déficit combiné de synthèse de l'adénosylcobalamine et de la méthylcobalamine type cblX\", \"ORPHA:47159  Acidose tubulaire rénale proximale\\nPlus d'informations\\nSynonyme(s) : ATRp ; Acidose tubulaire rénale type 2 ; pRTA\", \"ORPHA:79312  Acidémie méthylmalonique isolée résistante à la vitamine B12 type mut-\\nPlus d'informations\\nSynonyme(s) : Acidurie méthylmalonique résistante à la vitamine B12 type mut- ; Déficit partiel en méthylmalonyl-CoA mutase\", \"ORPHA:289465  Adermatoglyphie congénitale isolée\\nPlus d'informations\\nSynonyme(s) : Absence congénitale d'empreintes digitales ; Absence congénitale de dermatoglyphes\", \"ORPHA:210122  Dysplasie alvéolo-capillaire congénitale\\nPlus d'informations\\nSynonyme(s) : ACDMPV ; Dysplasie alvéolo-capillaire avec défaut d'alignement des vaisseaux pulmonaires\", \"ORPHA:48818  Acéruléoplasminémie\\nPlus d'informations\\nSynonyme(s) : Déficit héréditaire en céruloplasmine\", \"ORPHA:2008  Syndrome acrocardiofacial\\nPlus d'informations\\nSynonyme(s) : ACFS ; Syndrome CCGE ; Syndrome de fente palatine-cardiopathie-anomalies génitales-ectrodactylie\", \"ORPHA:930  Achalasie oesophagienne idiopathique\\nPlus d'informations\\nSynonyme(s) : Achalasie du cardia ; Achalasie idiopathique de l'oesophage ; Achalasie primaire de l'oesophage ; Achalasie primitive de l'oesophage ; Mégaoesophage idiopathique\", \"ORPHA:86815  Aplasie des glandes salivaires et lacrymales\\nPlus d'informations\\nSynonyme(s) : ALSG ; Absence congénitale des glandes salivaires et lacrymales\", \"ORPHA:250977  AICA-ribosidurie\\nPlus d'informations\\nSynonyme(s) : 5-amino-4-imidazole carboxamide ribosidurie ; Déficit en ATIC\", \"ORPHA:96147  Syndrome de Kleefstra dû à une microdélétion 9q34\\nPlus d'informations\\nSynonyme(s) : 9qSTDS ; Syndrome de Kleefstra dû à une del(9)(q34) ; Syndrome de Kleefstra dû à une délétion subtélomérique 9q ; Syndrome de Kleefstra dû à une monosomie 9q34\", \"ORPHA:495879  Agénésie congénitale du scrotum\\nPlus d'informations\\nSynonyme(s) : Absence congénitale du scrotum ; Agénésie scrotale congénitale\", \"ORPHA:567  Syndrome de délétion 22q11.2\\nPlus d'informations\\nSynonyme(s) : 22q11DS ; CATCH 22 ; Microdélétion 22q11.2 ; Monosomie 22q11 ; Syndrome cardio-facial de Cayler ; Syndrome de DiGeorge ; Syndrome de Sedlackova ; Syndrome de Shprintzen ; Syndrome de Takao ; Syndrome des anomalies conotroncales et de la face ; Syndrome vélo-cardio-facial ; Séquence de DiGeorge\\nMots-clés : Aplasie thymique ; Aplasie thymus ; Athymique\", \"ORPHA:22  Déficit en succinate-semi-aldéhyde déshydrogénase\\nPlus d'informations\\nSynonyme(s) : Acidurie 4-hydroxybutyrique ; Acidurie gamma-hydroxybutyrique ; Déficit en SSADH\", \"ORPHA:11  Pentasomie X\\nPlus d'informations\\nSynonyme(s) : Penta-X ; Poly-X ; Syndrome 49,XXXXX\", \"ORPHA:96269  Agénésie vaginale isolée partielle\\nPlus d'informations\\nSynonyme(s) : Absence congénitale du vagin\", \"ORPHA:100055  Angio-oedème acquis type II\\nPlus d'informations\\nSynonyme(s) : AAE 2 ; AAE II ; Angio-oedème bradykinique acquis type II ; Oedème angioneurotique acquis type II\", \"ORPHA:931  Acheiropodie\\nPlus d'informations\", \"ORPHA:284460  Rétinopathie externe annulaire aiguë\\nPlus d'informations\\nSynonyme(s) : AAOR\", \"ORPHA:324353  Achiasma congénital\\nPlus d'informations\", \"ORPHA:54251  Syndrome des abcès aseptiques corticosensibles\\nPlus d'informations\\nSynonyme(s) : Abcès aseptiques disséminés ; Abcès aseptiques systémiques ; Syndrome des abcès aseptiques\", \"ORPHA:99110  Abouchement de la veine cave supérieure droite dans l'oreillette gauche\\nPlus d'informations\", \"ORPHA:49382  Achromatopsie\\nPlus d'informations\\nSynonyme(s) : ACHM ; Achromatie ; Achromatopsie complète ; Cécité de Pingelap ; Monochromatie à bâtonnets\\nMots-clés : Achromatopsie compléte ; Achromatopsie imcomplète\", \"ORPHA:932  Achondrogenèse\\nPlus d'informations\", \"ORPHA:99109  Abouchement de la veine cave supérieure gauche dans le sinus coronaire\\nPlus d'informations\", \"ORPHA:93299  Achondrogenèse type 1A\\nPlus d'informations\\nSynonyme(s) : Achondrogenèse type Houston-Harris\", \"ORPHA:93298  Achondrogenèse type 1B\\nPlus d'informations\\nSynonyme(s) : Achondrogenèse type Parenti-Fraccaro\", \"ORPHA:93296  Achondrogenèse type 2\\nPlus d'informations\\nSynonyme(s) : Achondrogenèse type Langer-Saldino\", \"ORPHA:99111  Abouchement de la veine cave supérieure gauche dans le toit de l'oreillette gauche\\nPlus d'informations\", \"ORPHA:1164  Aspergillose broncho-pulmonaire allergique\\nPlus d'informations\\nSynonyme(s) : ABPA ; Aspergillose allergique ; Maladie de Hinson-Pepys\", \"ORPHA:99112  Absence de veine innominée\\nPlus d'informations\\nSynonyme(s) : Absence de veine brachiocéphalique\", \"ORPHA:945  Absence de voûte crânienne\\nPlus d'informations\\nMots-clés : Acrânie\", \"ORPHA:15  Achondroplasie\\nPlus d'informations\", \"ORPHA:980  Absence d'une artère pulmonaire\\nPlus d'informations\", \"ORPHA:922  Absence familiale de cils nasaux\\nPlus d'informations\", \"ORPHA:16  Monochromatisme à cônes bleus\\nPlus d'informations\\nSynonyme(s) : Achromatopsie atypique liée à l'X ; Achromatopsie incomplète liée à l'X ; Monochromatie à cônes S ; Monochromatie à cônes bleus ; Monochromatisme à cônes S\", \"ORPHA:48  Absence congénitale bilatérale des canaux déférents\\nPlus d'informations\\nSynonyme(s) : Agénésie congénitale bilatérale des canaux déférents ; Aplasie congénitale bilatérale des canaux déférents\", \"ORPHA:356978  Acidurie D,L-2-hydroxyglutarique\\nPlus d'informations\\nSynonyme(s) : Acidurie combinée D-2-hydroxyglutarique et L-2-hydroxyglutarique ; Acidémie D,L-2-hydroxyglutarique ; Acidémie combinée D-2-hydroxyglutarique et L-2-hydroxyglutarique ; L-2-HGA\", \"ORPHA:289504  Acidémie combinée malonique et méthylmalonique\\nPlus d'informations\\nSynonyme(s) : Acidurie combinée malonique et méthylmalonique ; CMAMMA\", \"ORPHA:2879  Phocomélie type Schinzel\\nPlus d'informations\\nSynonyme(s) : Absence congénitale de cubitus et de péroné ; Aplasie/hypoplasie des membres et du pelvis ; Déficit sévère des membres ; Syndrome d'Al Awadi-Raas-Rothschild\", \"ORPHA:973  Absence/hypoplasie congénitale unilatérale des doigts à l'exception du pouce\\nPlus d'informations\\nSynonyme(s) : Adactylie unilatérale de la main ; Hypodactylie unilatérale des doigts 2-5 ; Oligodactylie unilatérale des doigts 2-5\", \"ORPHA:79315  Acidurie D-2-hydroxyglutarique\\nPlus d'informations\\nSynonyme(s) : Acidémie D-2-hydroxyglutarique ; D-2-HGA\", \"ORPHA:941  Acidurie D-glycérique\\nPlus d'informations\\nSynonyme(s) : Acidémie D-glycérique ; Déficit en D-glycérate kinase\", \"ORPHA:25  Déficit en glutaryl-CoA déshydrogénase\\nPlus d'informations\\nSynonyme(s) : Acidurie glutarique type 1 ; Acidémie glutarique type 1 ; Déficit en glutaryl-coenzyme A déshydrogénase ; GA1 ; GCDHD\", \"ORPHA:14  Abêtalipoprotéinémie\\nPlus d'informations\\nSynonyme(s) : Hypobêtalipoprotéinémie sévère précoce ; Maladie de Bassen-Kornzweig\\nMots-clés : Hypobétalipoprotéinémie\", \"ORPHA:26791  Déficit multiple en acyl-CoA déshydrogénases\\nPlus d'informations\\nSynonyme(s) : Acidurie glutarique type 2 ; Acidémie glutarique type 2 ; Déficit en MAD ; MADD\\nMots-clés : Déficit en flavoprotéines de transfert d'électrons\", \"ORPHA:300504  Matricome onychocytique\\nPlus d'informations\\nSynonyme(s) : Acanthome de la matrice des ongles ; Acanthome de la matrice unguéale\", \"ORPHA:329942  Déficit néonatal transitoire multiple en acyl-CoA déshydrogénases\\nPlus d'informations\\nSynonyme(s) : Acidurie glutarique type 2 néonatale transitoire ; Acidémie glutarique type 2 néonatale transitoire ; Déficit néonatal transitoire en MAD ; MADD néonatal transitoire\", \"ORPHA:394532  Déficit multiple en acyl-CoA déshydrogénase, type modéré\\nPlus d'informations\\nSynonyme(s) : Acidémie glutarique type 2, type modéré ; Déficit en MAD, type modéré\", \"ORPHA:926  Acatalasémie\\nPlus d'informations\\nSynonyme(s) : Déficit en catalase\", \"ORPHA:394529  Déficit multiple en acyl-CoA déshydrogénase, type sévère néonatal\\nPlus d'informations\\nSynonyme(s) : Acidémie glutarique type 2, type sévère néonatal ; Déficit en MAD, type sévère néonatal\", \"ORPHA:93322  Hémimélie tibiale\\nPlus d'informations\\nSynonyme(s) : Absence congénitale de tibia ; Aplasie et dysplasie du tibia avec péroné intact ; Déficit congénital longitudinal du tibia ; Méromélie tibiale longitudinale\", \"ORPHA:35706  Acidémie glutarique type 3\\nPlus d'informations\\nSynonyme(s) : Acidurie glutarique type 3 ; Déficit en glutaryl-CoA oxydase\", \"ORPHA:33  Acidémie isovalérique\\nPlus d'informations\\nSynonyme(s) : Déficit en Isovaléryl-CoA déshydrogénase\", \"ORPHA:79314  Acidurie L-2-hydroxyglutarique\\nPlus d'informations\\nSynonyme(s) : Acidémie L-2-hydroxyglutarique ; L-2-HGA\", \"ORPHA:402041  Acidose tubulaire rénale distale autosomique récessive\\nPlus d'informations\\nSynonyme(s) : AR dRTA ; ATR distale autosomique récessive ; ATRd AR\\nMots-clés : Acidose tubulaire rénale distale type 1b\", \"ORPHA:26  Acidémie méthylmalonique avec homocystinurie\\nPlus d'informations\\nSynonyme(s) : Acidurie méthylmalonique avec homocystinurie ; Déficit combiné de synthèse de l'adénosylcobalamine et de la méthylcobalamine\", \"ORPHA:79282  Acidémie méthylmalonique avec homocystinurie type cblC\\nPlus d'informations\\nSynonyme(s) : Acidurie méthylmalonique avec homocystinurie type cblC ; Déficit combiné de synthèse de l'adénosylcobalamine et de la méthylcobalamine type cblC ; Déficit en cblC ; Déficit en cobalamine C\", \"ORPHA:79283  Acidémie méthylmalonique avec homocystinurie type cblD\\nPlus d'informations\\nSynonyme(s) : Acidurie méthylmalonique avec homocystinurie type cblD ; Déficit combiné de synthèse de l'adénosylcobalamine et de la méthylcobalamine type cblD ; Déficit en cblD ; Déficit en cobalamine D\", \"ORPHA:93610  Acidose tubulaire rénale distale avec anémie\\nPlus d'informations\\nSynonyme(s) : ATRd avec anémie ; dRTA avec anémie\", \"ORPHA:51208  Acidurie formiminoglutamique\\nPlus d'informations\\nSynonyme(s) : Déficit en FTCD ; Déficit en formiminotransférase cyclodésaminase ; Déficit en glutamate formiminotransférase\", \"ORPHA:79284  Acidémie méthylmalonique avec homocystinurie type cblF\\nPlus d'informations\\nSynonyme(s) : Acidurie méthylmalonique avec homocystinurie type cblF ; Défaut de libération lysosomale de la vitamine B12 ; Défaut de transport de la cobalamine à la membrane lysosomale ; Déficit combiné de synthèse de l'adénosylcobalamine et de la méthylcobalamine type cblF ; Déficit en cobalamine F\\nMots-clés : Acidémie méthylmalonique avec homocystinurie type cblJ\", \"ORPHA:24  Acidurie fumarique\\nPlus d'informations\\nSynonyme(s) : Déficit en fumarase\", \"ORPHA:369955  Acidémie méthylmalonique avec homocystinurie type cblJ\\nPlus d'informations\\nSynonyme(s) : Acidurie méthylmalonique avec homocystinurie type cblJ ; Déficit combiné de synthèse de l'adénosylcobalamine et de la méthylcobalamine type cblJ ; Déficit en cblJ ; Déficit en cobalamine J\", \"ORPHA:2785  Ostéopétrose avec acidose tubulaire rénale\\nPlus d'informations\\nSynonyme(s) : Acidose tubulaire rénale mixte ; Acidose tubulaire rénale type 3 ; Déficit en anhydrase carbonique II ; Syndrome de Guibaud-Vainsel\", \"ORPHA:369962  Acidémie méthylmalonique avec homocystinurie type cblX\\nPlus d'informations\\nSynonyme(s) : Acidurie méthylmalonique avec homocystinurie type cblX ; Déficit combiné de synthèse de l'adénosylcobalamine et de la méthylcobalamine type cblX\", \"ORPHA:47159  Acidose tubulaire rénale proximale\\nPlus d'informations\\nSynonyme(s) : ATRp ; Acidose tubulaire rénale type 2 ; pRTA\", \"ORPHA:79312  Acidémie méthylmalonique isolée résistante à la vitamine B12 type mut-\\nPlus d'informations\\nSynonyme(s) : Acidurie méthylmalonique résistante à la vitamine B12 type mut- ; Déficit partiel en méthylmalonyl-CoA mutase\", \"ORPHA:314889  Acidose tubulaire rénale proximale autosomique dominante\\nPlus d'informations\\nSynonyme(s) : AD pRTA ; ATRp AD\", \"ORPHA:93598  Hyperoxalurie primitive type 1\\nPlus d'informations\\nSynonyme(s) : Acidurie glycolique ; Déficit en alanine-glyoxylate aminotransférase peroxysomale\\nMots-clés : Oxalose primitive\", \"ORPHA:308425  Acidémie méthylmalonique par déficit en méthylmalonyl-CoA épimérase\\nPlus d'informations\\nSynonyme(s) : Acidurie méthylmalonique par déficit en méthylmalonyl-CoA racémase ; Acidurie méthylmalonique par déficit en méthylmalonyl-CoA épimérase ; Déficit en MCEE\", \"ORPHA:93607  Acidose tubulaire rénale proximale autosomique récessive\\nPlus d'informations\\nSynonyme(s) : AR pRTA ; ATRp AR ; Acidose tubulaire rénale proximale avec anomalies oculaires et déficience intellectuelle\\nMots-clés : Acidose tubulaire rénale proximale avec anomalies oculaires et retard mental\", \"ORPHA:20  Acidurie 3-hydroxy-3-méthylglutarique\\nPlus d'informations\\nSynonyme(s) : Acidurie hydroxyméthylglutarique ; Déficit en 3-hydroxy-3-méthylglutaryl-CoA lyase ; Déficit en HMG-CoA-lyase\", \"ORPHA:27  Acidémie méthylmalonique résistante à la vitamine B12\\nPlus d'informations\\nSynonyme(s) : Acidurie méthylmalonique résistante à la vitamine B12 ; Déficit en méthylmalonyl-CoA mutase ; Déficit en méthylmalonyl-Coenzyme A mutase\", \"ORPHA:79159  Déficit en isobutyryl-CoA déshydrogénase\\nPlus d'informations\\nSynonyme(s) : Acidurie isobutyrique\", \"ORPHA:93599  Hyperoxalurie primitive type 2\\nPlus d'informations\\nSynonyme(s) : Acidurie L-glycérique ; Déficit en D-glycérate déshydrogénase\\nMots-clés : Oxalose primitive\", \"ORPHA:289916  Acidémie méthylmalonique résistante à la vitamine B12 type mut0\\nPlus d'informations\\nSynonyme(s) : Acidurie méthylmalonique résistante à la vitamine B12 type mut0 ; Déficit complet en méthymalonyl-CoA mutase\", \"ORPHA:18  Acidose tubulaire rénale distale\\nPlus d'informations\\nSynonyme(s) : ATR classique ; ATRd ; Acidose distale primitive familiale ; Acidose tubulaire rénale type 1 ; dRTA\", \"ORPHA:943  Acidurie malonique\\nPlus d'informations\\nSynonyme(s) : Déficit en malonyl-CoA décarboxylase\", \"ORPHA:88639  Neurodégénérescence par déficit en 3-hydroxyisobutyryl-CoA hydrolase\\nPlus d'informations\\nSynonyme(s) : Acidurie méthacrylique ; Déficit en HIBCH ; Trouble du métabolisme de la valine\", \"ORPHA:28  Acidémie méthylmalonique sensible à la vitamine B12\\nPlus d'informations\\nSynonyme(s) : Acidurie méthylmalonique sensible à la vitamine B12 ; Déficit en adénosylcobalamine\", \"ORPHA:79154  Acidurie 2-aminoadipique 2-oxoadipique\\nPlus d'informations\\nSynonyme(s) : Acidurie alpha-aminoadipique\", \"ORPHA:79310  Acidémie méthylmalonique sensible à la vitamine B12 type cblA\\nPlus d'informations\\nSynonyme(s) : Acidurie méthylmalonique sensible à la vitamine B12 type cblA\", \"ORPHA:391417  Maladie HSD10\\nPlus d'informations\\nSynonyme(s) : Acidurie 2-méthyl-3-hydroxybutyrique ; Déficit en 2-méthyl-3-hydroxybutyryl-CoA déshydrogénase ; Déficit en HSD10 ; Déficit en MHBD\", \"ORPHA:79311  Acidémie méthylmalonique sensible à la vitamine B12 type cblB\\nPlus d'informations\\nSynonyme(s) : Acidurie méthylmalonique sensible à la vitamine B12 type cblB\", \"ORPHA:391428  Maladie HSD10 type infantile\\nPlus d'informations\\nSynonyme(s) : Acidurie 2-méthyl-3-hydroxybutyrique type classique ; Acidurie 2-méthyl-3-hydroxybutyrique type infantile ; Déficit en 2-méthyl-3-hydroxybutyryl-CoA déshydrogénase type classique ; Déficit en 2-méthyl-3-hydroxybutyryl-CoA déshydrogénase type infantile ; Déficit en HSD10 type classique ; Déficit en HSD10 type infantile ; Déficit en MHBD type classique ; Déficit en MHBD type infantile ; Maladie HSD10 type classique\", \"ORPHA:308442  Acidémie méthylmalonique sensible à la vitamine B12 type cblDv2\\nPlus d'informations\\nSynonyme(s) : Acidurie méthylmalonique sensible à la vitamine B12 type cblDv2\", \"ORPHA:391457  Maladie HSD10 type néonatal\\nPlus d'informations\\nSynonyme(s) : Acidurie 2-méthyl-3-hydroxybutyrique type néonatal ; Déficit en 2-méthyl-3-hydroxybutyryl-CoA déshydrogénase type néonatal ; Déficit en HSD10 type néonatal ; Déficit en MHBD type néonatal\", \"ORPHA:280183  Acidurie méthylmalonique par déficit en récepteur de la transcobalamine\\nPlus d'informations\\nSynonyme(s) : Acidémie méthylmalonique type TCb1R\", \"ORPHA:79157  Déficit en 2-méthylbutyryl-CoA déshydrogénase\\nPlus d'informations\\nSynonyme(s) : Acidurie 2-méthylbutyrique ; Déficit en acyl-CoA déshydrogénase des acides gras à chaîne courte ou ramifiée ; Retard de développement par déficit en 2-méthylbutyryl-CoA déshydrogénase\", \"ORPHA:79189  Anomalie de la biogénèse du péroxysome\\nPlus d'informations\\nSynonyme(s) : Spectre des anomalies de la biogénèse du péroxysome\\nMots-clés : PBD-ZSD ; Spectre de Zellweger\", \"ORPHA:35  Acidémie propionique\\nPlus d'informations\\nSynonyme(s) : Acidurie propionique ; Déficit en propionyl-CoA carboxylase ; Glycinémie cétosique\", \"ORPHA:2609  Déficit isolé en complexe I\\nPlus d'informations\\nSynonyme(s) : Déficit isolé en NADH-CoQ réductase ; Déficit isolé en NADH-coenzyme Q réductase ; Déficit isolé en NADH-ubiquinone réductase ; Déficit isolé en complexe I de la chaîne respiratoire mitochondriale\", \"ORPHA:939  Acidurie 3-hydroxyisobutyrique\\nPlus d'informations\", \"ORPHA:67046  Acidurie 3-méthylglutaconique type 1\\nPlus d'informations\\nSynonyme(s) : AMG type I ; Déficit en 3-méthylglutaconyl-CoA hydratase ; Déficit en 3MG-CoA hydratase\"]\n"
     ]
    }
   ],
   "source": [
    "# Liste résultat \n",
    "print(v)"
   ]
  },
  {
   "cell_type": "code",
   "execution_count": 147,
   "metadata": {},
   "outputs": [],
   "source": [
    "# On écrit le résultat dans un csv (méthode 2)\n",
    "import csv\n",
    "\n",
    "with open('/Users/guillaumepressiat/Documents/Developpements/Github/orpha/data/result_1.csv', \"w\") as output:\n",
    "    writer = csv.writer(output, lineterminator='\\n')\n",
    "    for val in v:\n",
    "        writer.writerow([val])    \n"
   ]
  }
 ],
 "metadata": {
  "kernelspec": {
   "display_name": "Python 3",
   "language": "python",
   "name": "python3"
  },
  "language_info": {
   "codemirror_mode": {
    "name": "ipython",
    "version": 3
   },
   "file_extension": ".py",
   "mimetype": "text/x-python",
   "name": "python",
   "nbconvert_exporter": "python",
   "pygments_lexer": "ipython3",
   "version": "3.6.5"
  }
 },
 "nbformat": 4,
 "nbformat_minor": 2
}
